{
  "cells": [
    {
      "cell_type": "markdown",
      "metadata": {
        "id": "Ty4z1hvs92pD"
      },
      "source": [
        "## Introduction to Knowledge Graph Embeddings\n",
        "\n",
        "https://github.com/TimDettmers/ConvE."
      ]
    },
    {
      "cell_type": "code",
      "execution_count": 1,
      "metadata": {},
      "outputs": [],
      "source": [
        "from os.path import splitext\n",
        "from typing import List, Tuple, Set, Dict, Optional, Iterable, Pattern\n",
        "import numpy as np\n",
        "import pandas as pd\n",
        "\n",
        "import seaborn as sns\n",
        "import matplotlib.pyplot as plt\n",
        "\n",
        "import torch\n",
        "from torch import nn, Tensor\n",
        "from torch.utils.data import TensorDataset\n",
        "from torch.utils.data import DataLoader\n",
        "\n",
        "from torch import optim\n",
        "from torch.utils.data import TensorDataset\n",
        "from torch.utils.data import DataLoader\n",
        "from livelossplot import PlotLosses"
      ]
    },
    {
      "cell_type": "markdown",
      "metadata": {
        "id": "ovC9LY87-udz"
      },
      "source": [
        "Now let's read the triples (splitted in training, validation, and test set) from the UMLS dataset, and visualise part of the training set."
      ]
    },
    {
      "cell_type": "code",
      "execution_count": 3,
      "metadata": {
        "colab": {
          "base_uri": "https://localhost:8080/",
          "height": 669
        },
        "id": "65rQCk2zGjUy",
        "outputId": "47771c8b-e9b8-47a2-b52d-0ea14cd9eb7d"
      },
      "outputs": [
        {
          "data": {
            "text/html": [
              "<div>\n",
              "<style scoped>\n",
              "    .dataframe tbody tr th:only-of-type {\n",
              "        vertical-align: middle;\n",
              "    }\n",
              "\n",
              "    .dataframe tbody tr th {\n",
              "        vertical-align: top;\n",
              "    }\n",
              "\n",
              "    .dataframe thead th {\n",
              "        text-align: right;\n",
              "    }\n",
              "</style>\n",
              "<table border=\"1\" class=\"dataframe\">\n",
              "  <thead>\n",
              "    <tr style=\"text-align: right;\">\n",
              "      <th></th>\n",
              "      <th>Subject</th>\n",
              "      <th>Predicate</th>\n",
              "      <th>Object</th>\n",
              "    </tr>\n",
              "  </thead>\n",
              "  <tbody>\n",
              "    <tr>\n",
              "      <th>0</th>\n",
              "      <td>Leonhard Euler</td>\n",
              "      <td>languages spoken, written, or signed</td>\n",
              "      <td>German</td>\n",
              "    </tr>\n",
              "    <tr>\n",
              "      <th>1</th>\n",
              "      <td>Carl Djerassi</td>\n",
              "      <td>cause of death</td>\n",
              "      <td>cancer</td>\n",
              "    </tr>\n",
              "    <tr>\n",
              "      <th>2</th>\n",
              "      <td>Colombia</td>\n",
              "      <td>member of</td>\n",
              "      <td>International Finance Corporation</td>\n",
              "    </tr>\n",
              "    <tr>\n",
              "      <th>3</th>\n",
              "      <td>Aleksey Nikolayevich Tolstoy</td>\n",
              "      <td>languages spoken, written, or signed</td>\n",
              "      <td>Russian</td>\n",
              "    </tr>\n",
              "    <tr>\n",
              "      <th>4</th>\n",
              "      <td>Netherlands</td>\n",
              "      <td>member of</td>\n",
              "      <td>Schengen Area</td>\n",
              "    </tr>\n",
              "    <tr>\n",
              "      <th>...</th>\n",
              "      <td>...</td>\n",
              "      <td>...</td>\n",
              "      <td>...</td>\n",
              "    </tr>\n",
              "    <tr>\n",
              "      <th>32883</th>\n",
              "      <td>Gilbert Bécaud</td>\n",
              "      <td>occupation</td>\n",
              "      <td>composer</td>\n",
              "    </tr>\n",
              "    <tr>\n",
              "      <th>32884</th>\n",
              "      <td>Kris Kristofferson</td>\n",
              "      <td>occupation</td>\n",
              "      <td>guitarist</td>\n",
              "    </tr>\n",
              "    <tr>\n",
              "      <th>32885</th>\n",
              "      <td>Willow Smith</td>\n",
              "      <td>genre</td>\n",
              "      <td>indie pop</td>\n",
              "    </tr>\n",
              "    <tr>\n",
              "      <th>32886</th>\n",
              "      <td>C. S. Lewis</td>\n",
              "      <td>occupation</td>\n",
              "      <td>university teacher</td>\n",
              "    </tr>\n",
              "    <tr>\n",
              "      <th>32887</th>\n",
              "      <td>Georg Forster</td>\n",
              "      <td>cause of death</td>\n",
              "      <td>stroke</td>\n",
              "    </tr>\n",
              "  </tbody>\n",
              "</table>\n",
              "<p>32888 rows × 3 columns</p>\n",
              "</div>"
            ],
            "text/plain": [
              "                            Subject                             Predicate  \\\n",
              "0                    Leonhard Euler  languages spoken, written, or signed   \n",
              "1                     Carl Djerassi                        cause of death   \n",
              "2                          Colombia                             member of   \n",
              "3      Aleksey Nikolayevich Tolstoy  languages spoken, written, or signed   \n",
              "4                       Netherlands                             member of   \n",
              "...                             ...                                   ...   \n",
              "32883                Gilbert Bécaud                            occupation   \n",
              "32884            Kris Kristofferson                            occupation   \n",
              "32885                  Willow Smith                                 genre   \n",
              "32886                   C. S. Lewis                            occupation   \n",
              "32887                 Georg Forster                        cause of death   \n",
              "\n",
              "                                  Object  \n",
              "0                                 German  \n",
              "1                                 cancer  \n",
              "2      International Finance Corporation  \n",
              "3                                Russian  \n",
              "4                          Schengen Area  \n",
              "...                                  ...  \n",
              "32883                           composer  \n",
              "32884                          guitarist  \n",
              "32885                          indie pop  \n",
              "32886                 university teacher  \n",
              "32887                             stroke  \n",
              "\n",
              "[32888 rows x 3 columns]"
            ]
          },
          "execution_count": 3,
          "metadata": {},
          "output_type": "execute_result"
        }
      ],
      "source": [
        "def read_triples(path: str) -> List[Tuple[str, str, str]]:\n",
        "    triples = []\n",
        "    with open(path, 'rt') as f:\n",
        "      for line in f:\n",
        "        s, p, o = line.split('\\t')\n",
        "        triples += [(s.strip(), p.strip(), o.strip())]\n",
        "    return triples\n",
        "\n",
        "\n",
        "train_triples_lst = read_triples('text_files/codex-s/train.tsv')\n",
        "valid_triples_lst = read_triples('text_files/codex-s/valid.tsv')\n",
        "test_triples_lst = read_triples('text_files/codex-s/test.tsv')\n",
        "\n",
        "train_df = pd.DataFrame(train_triples_lst, columns =['Subject', 'Predicate', 'Object'])\n",
        "train_df"
      ]
    },
    {
      "cell_type": "markdown",
      "metadata": {
        "id": "ziQ74aCnA-kK"
      },
      "source": [
        "Let's create the set $E$ entities and the set $R$ of relation types, respectively denoted as `entity_set` and `predicate_set` in the following code.\n",
        "\n",
        "Then, we associate an unique integer between $0$ and $|E| - 1$ to each entity $e \\in E$, and an unique integer between $0$ and $|R| - 1$ to each relation type $p \\in R$ -- these are saved in the `entity_to_idx` and `predicate_to_idx` dictionaries in the following code."
      ]
    },
    {
      "cell_type": "code",
      "execution_count": 4,
      "metadata": {
        "colab": {
          "base_uri": "https://localhost:8080/"
        },
        "id": "eshDB9ZYgZ8I",
        "outputId": "b17baa72-bb55-4baa-cea1-1a954defd60f"
      },
      "outputs": [
        {
          "name": "stdout",
          "output_type": "stream",
          "text": [
            "|E| is 2034 while |R| is 42\n"
          ]
        }
      ],
      "source": [
        "# @title\n",
        "all_triples_lst: List[Tuple[str, str, str]] = train_triples_lst + valid_triples_lst + test_triples_lst\n",
        "\n",
        "# Set E of all entities\n",
        "entity_set: Set[str] = {s for s, _, _ in all_triples_lst} | {o for _, _, o in all_triples_lst}\n",
        "# Set R of all relation types\n",
        "predicate_set: Set[str] = {p for _, p, _ in all_triples_lst}\n",
        "\n",
        "# Map every entity and predicate with an unique index from 0 to |E|\n",
        "entity_lst: List[str] = sorted(entity_set)\n",
        "predicate_lst: List[str] = sorted(predicate_set)\n",
        "\n",
        "# Entity/predicate -> index maps\n",
        "entity_to_idx: Dict[str, int] = {entity: idx for idx, entity in enumerate(entity_lst)}\n",
        "predicate_to_idx: Dict[str, int] = {predicate: idx for idx, predicate in enumerate(predicate_lst)}\n",
        "\n",
        "# Index -> entity/predicate maps\n",
        "idx_to_entity: Dict[int, str] = {idx: entity for entity, idx in entity_to_idx.items()}\n",
        "idx_to_predicate: Dict[int, str] = {idx: predicate for predicate, idx in predicate_to_idx.items()}\n",
        "\n",
        "print(\"|E| is\", len(entity_set), \"while |R| is\", len(predicate_set))"
      ]
    },
    {
      "cell_type": "markdown",
      "metadata": {
        "id": "QDZO9nnhC0rO"
      },
      "source": [
        "We now transform the training, validation, and test set in PyTorch matrices with shape $|T| \\times 3$, where $T \\subseteq E \\times R \\times E$ denotes the set of triples and the first, second, and third column contain the indices of the subjects, predicates, and objects of the triples, respectively. Given a set of triples $T$, this code produces a matrix $\\mathbf{T} \\in \\mathbb{N}_{+}^{|T| \\times 3}$ containing the indices of the entities and relation types in $T$.\n",
        "\n",
        "Below displays the first rows of the matrix generated from the UMLS training set."
      ]
    },
    {
      "cell_type": "code",
      "execution_count": 5,
      "metadata": {
        "colab": {
          "base_uri": "https://localhost:8080/",
          "height": 669
        },
        "id": "b3S48kXxhq8H",
        "outputId": "d419e570-b371-4dd3-e385-e8d56e09d8b3"
      },
      "outputs": [
        {
          "name": "stdout",
          "output_type": "stream",
          "text": [
            "Device: cpu\n"
          ]
        },
        {
          "data": {
            "text/html": [
              "<div>\n",
              "<style scoped>\n",
              "    .dataframe tbody tr th:only-of-type {\n",
              "        vertical-align: middle;\n",
              "    }\n",
              "\n",
              "    .dataframe tbody tr th {\n",
              "        vertical-align: top;\n",
              "    }\n",
              "\n",
              "    .dataframe thead th {\n",
              "        text-align: right;\n",
              "    }\n",
              "</style>\n",
              "<table border=\"1\" class=\"dataframe\">\n",
              "  <thead>\n",
              "    <tr style=\"text-align: right;\">\n",
              "      <th></th>\n",
              "      <th>Subject Indices</th>\n",
              "      <th>Predicate Indices</th>\n",
              "      <th>Object Indices</th>\n",
              "    </tr>\n",
              "  </thead>\n",
              "  <tbody>\n",
              "    <tr>\n",
              "      <th>0</th>\n",
              "      <td>1050</td>\n",
              "      <td>18</td>\n",
              "      <td>613</td>\n",
              "    </tr>\n",
              "    <tr>\n",
              "      <th>1</th>\n",
              "      <td>284</td>\n",
              "      <td>1</td>\n",
              "      <td>1857</td>\n",
              "    </tr>\n",
              "    <tr>\n",
              "      <th>2</th>\n",
              "      <td>347</td>\n",
              "      <td>21</td>\n",
              "      <td>757</td>\n",
              "    </tr>\n",
              "    <tr>\n",
              "      <th>3</th>\n",
              "      <td>57</td>\n",
              "      <td>18</td>\n",
              "      <td>1474</td>\n",
              "    </tr>\n",
              "    <tr>\n",
              "      <th>4</th>\n",
              "      <td>1257</td>\n",
              "      <td>21</td>\n",
              "      <td>1512</td>\n",
              "    </tr>\n",
              "    <tr>\n",
              "      <th>...</th>\n",
              "      <td>...</td>\n",
              "      <td>...</td>\n",
              "      <td>...</td>\n",
              "    </tr>\n",
              "    <tr>\n",
              "      <th>32883</th>\n",
              "      <td>621</td>\n",
              "      <td>27</td>\n",
              "      <td>1865</td>\n",
              "    </tr>\n",
              "    <tr>\n",
              "      <th>32884</th>\n",
              "      <td>1008</td>\n",
              "      <td>27</td>\n",
              "      <td>1900</td>\n",
              "    </tr>\n",
              "    <tr>\n",
              "      <th>32885</th>\n",
              "      <td>1792</td>\n",
              "      <td>13</td>\n",
              "      <td>1908</td>\n",
              "    </tr>\n",
              "    <tr>\n",
              "      <th>32886</th>\n",
              "      <td>273</td>\n",
              "      <td>27</td>\n",
              "      <td>2020</td>\n",
              "    </tr>\n",
              "    <tr>\n",
              "      <th>32887</th>\n",
              "      <td>593</td>\n",
              "      <td>1</td>\n",
              "      <td>2004</td>\n",
              "    </tr>\n",
              "  </tbody>\n",
              "</table>\n",
              "<p>32888 rows × 3 columns</p>\n",
              "</div>"
            ],
            "text/plain": [
              "       Subject Indices  Predicate Indices  Object Indices\n",
              "0                 1050                 18             613\n",
              "1                  284                  1            1857\n",
              "2                  347                 21             757\n",
              "3                   57                 18            1474\n",
              "4                 1257                 21            1512\n",
              "...                ...                ...             ...\n",
              "32883              621                 27            1865\n",
              "32884             1008                 27            1900\n",
              "32885             1792                 13            1908\n",
              "32886              273                 27            2020\n",
              "32887              593                  1            2004\n",
              "\n",
              "[32888 rows x 3 columns]"
            ]
          },
          "execution_count": 5,
          "metadata": {},
          "output_type": "execute_result"
        }
      ],
      "source": [
        "# Convert the training, validation, and test sets to numpy matrices with shape |S| x 3\n",
        "def triples_to_matrix(triple_lst: List[Tuple[str, str, str]]) -> np.array:\n",
        "  index_lst = [(entity_to_idx[s], predicate_to_idx[p], entity_to_idx[o]) for s, p, o in triple_lst]\n",
        "  return np.array(index_lst, dtype=np.int32)\n",
        "\n",
        "train_np = triples_to_matrix(train_triples_lst)\n",
        "valid_np = triples_to_matrix(valid_triples_lst)\n",
        "test_np = triples_to_matrix(test_triples_lst)\n",
        "all_np = triples_to_matrix(all_triples_lst)\n",
        "\n",
        "# Now we need to start using PyTorch tensors -- let's first check if we have GPU support\n",
        "device = torch.device('cpu')\n",
        "# if torch.backends.mps.is_available():\n",
        "#   device = torch.device('mps')\n",
        "print(f'Device: {device}')\n",
        "\n",
        "# Let's convert the training, validation, and test sets to (PyTorch) tensors\n",
        "train_t = torch.tensor(train_np, dtype=torch.long, device=device)\n",
        "valid_t = torch.tensor(valid_np, dtype=torch.long, device=device)\n",
        "test_t = torch.tensor(test_np, dtype=torch.long, device=device)\n",
        "all_t = torch.tensor(all_np, dtype=torch.long, device=device)\n",
        "\n",
        "train_df = pd.DataFrame(train_t.cpu().numpy(), columns =['Subject Indices', 'Predicate Indices', 'Object Indices'])\n",
        "train_df"
      ]
    },
    {
      "cell_type": "markdown",
      "metadata": {
        "id": "O9NV8HKQLHmf"
      },
      "source": [
        "## DistMult\n",
        "\n",
        "Let's now define the model we will be using. Here it shows DistMult's code, where the scoring function is simply defined as $f(\\mathbf{s}, \\mathbf{p}, \\mathbf{o}) = \\langle \\mathbf{s}, \\mathbf{p}, \\mathbf{o} \\rangle = \\sum_{i} \\mathbf{s}_{i} \\mathbf{p}_{i} \\mathbf{o}_{i}$.\n",
        "\n",
        "Note that the model has two methods:\n",
        "- The `score` method receives a batch of triples, and produces a score for each of the triples.\n",
        "- The `forward` method has three arguments, `s` for subjects, `p` for predicates, and `o` for objects: if one of them is set to `None`, this method efficiently produces a score for all candidate entities or relation types for replacing the missing argument. This will be extremely useful to compute some training objective efficiently."
      ]
    },
    {
      "cell_type": "code",
      "execution_count": 6,
      "metadata": {
        "id": "hOTBelFK4PAA"
      },
      "outputs": [],
      "source": [
        "# Let's create a PyTorch link prediction model -- we will use the DistMult scoring function\n",
        "\n",
        "class DistMult(nn.Module):\n",
        "    def __init__(self, nb_entities: int, nb_predicates: int, embedding_size: int):\n",
        "        super().__init__()\n",
        "        self.nb_entities = nb_entities\n",
        "        self.nb_predicates = nb_predicates\n",
        "        self.embedding_size = embedding_size\n",
        "\n",
        "        # This is the encoder part of the model, and the emeddings for the entities and relation types\n",
        "        # represent the parameters θ of the encoder.\n",
        "        self.entity_embeddings = nn.Embedding(nb_entities, self.embedding_size, sparse=True)\n",
        "        self.predicate_embeddings = nn.Embedding(nb_predicates, self.embedding_size, sparse=True)\n",
        "\n",
        "        # Small trick from https://github.com/facebookresearch/kbc/\n",
        "        self.entity_embeddings.weight.data *= 1e-3\n",
        "        self.predicate_embeddings.weight.data *= 1e-3\n",
        "\n",
        "    def score(self, triple: Tensor) -> Tensor:\n",
        "        # triple is a batch_size x 3 tensor containing a batch of triples, where triple[0], triple[1], and triple[2]\n",
        "        # correspond to the indices of the subjects, predicates, and objects, respectively.\n",
        "\n",
        "        # We first look up the embedding of the subjects, predicates, and objects of the input triples ..\n",
        "        s_emb = self.entity_embeddings(triple[:, 0])\n",
        "        p_emb = self.predicate_embeddings(triple[:, 1])\n",
        "        o_emb = self.entity_embeddings(triple[:, 2])\n",
        "\n",
        "        # [B] Tensor\n",
        "        # .. and then compute the tri-linear dot product <s, p, o>, producing the resulting scores.\n",
        "        res = torch.sum(s_emb * p_emb * o_emb, 1)\n",
        "\n",
        "        # [B] Tensor\n",
        "        return res\n",
        "\n",
        "    def forward(self, s: Optional[Tensor], p: Optional[Tensor], o: Optional[Tensor]) -> Tensor:\n",
        "        # s, p, and o are the indices of subjects, predicates, and objects, respecitvely.\n",
        "        # This function is similar to the previous score() but it requires you not to specify one among the\n",
        "        # subject, predicate, and object of a batch of triples, and gives you a score for all possible candidates\n",
        "        assert [s, p, o].count(None) <= 1, \"s, p, or o should be None\"\n",
        "\n",
        "        s_emb = self.entity_embeddings(s) if s is not None else self.entity_embeddings.weight\n",
        "        p_emb = self.predicate_embeddings(p) if p is not None else self.predicate_embeddings.weight\n",
        "        o_emb = self.entity_embeddings(o) if o is not None else self.entity_embeddings.weight\n",
        "\n",
        "        # [B] Tensor\n",
        "        scores = None\n",
        "\n",
        "        if p is None:\n",
        "          # If the predicate is not specified, we compute the scores of all the triples obtained by using the\n",
        "          # predicates in R as predicate values.\n",
        "          scores = (s_emb * o_emb) @ p_emb.t()\n",
        "        elif s is None:\n",
        "          # If the subject is not specified, we compute the scores of all the triples obtained by using the\n",
        "          # entities in E as subject values.\n",
        "          scores = (p_emb * o_emb) @ s_emb.t()\n",
        "        elif o is None:\n",
        "          # If the object is not specified, we compute the scores of all the triples obtained by using the\n",
        "          # entities in E as object values.\n",
        "          scores = (s_emb * p_emb) @ o_emb.t()\n",
        "        else:\n",
        "          # Subject, predicare, and object values were specified -- we compute the score of the triple.\n",
        "          scores = self.score(torch.cat([s.view(-1, 1), p.view(-1, 1), o.view(-1, 1)], dim=1))\n",
        "\n",
        "        assert scores is not None\n",
        "        return scores\n",
        "\n",
        "    def factor(self, idx: Tensor, is_entity: bool = True) -> Tensor:\n",
        "      # This method is used for regularisation -- more on this later.\n",
        "      embedding_layer = self.entity_embeddings if is_entity is True else self.predicate_embeddings\n",
        "      emb = embedding_layer(idx)\n",
        "      return emb"
      ]
    },
    {
      "cell_type": "markdown",
      "metadata": {
        "id": "igRkRTnvimr8"
      },
      "source": [
        "## ComplEx\n",
        "\n",
        "The scoring function is defined as $f(\\mathbf{s}, \\mathbf{p}, \\mathbf{o}) = \\text{Re}(\\langle \\mathbf{s}, \\mathbf{p}, \\overline{\\mathbf{o}} \\rangle)$.\n",
        "\n",
        "Note that the model has two methods:\n",
        "- The `score` method receives a batch of triples, and produces a score for each of the triples.\n",
        "- The `forward` method has three arguments, `s` for subjects, `p` for predicates, and `o` for objects: if one of them is set to `None`, this method efficiently produces a score for all candidate entities or relation types for replacing the missing argument. This will be extremely useful to compute some training objective efficiently."
      ]
    },
    {
      "cell_type": "code",
      "execution_count": 7,
      "metadata": {
        "id": "bNe8_i6WyK24"
      },
      "outputs": [],
      "source": [
        "# @title\n",
        "# Let's create a PyTorch link prediction model -- we will use the ComplEx scoring function\n",
        "\n",
        "class ComplEx(nn.Module):\n",
        "    def __init__(self, nb_entities: int, nb_predicates: int, embedding_size: int):\n",
        "        super().__init__()\n",
        "        self.nb_entities = nb_entities\n",
        "        self.nb_predicates = nb_predicates\n",
        "        self.embedding_size = embedding_size\n",
        "\n",
        "        # Remeber that ComplEx has complex embeddings -- here we will use\n",
        "        # x[:embedding_size] as the real part, and x[embedding_size:] as the\n",
        "        # imaginary part of the representations\n",
        "        self.entity_embeddings = nn.Embedding(nb_entities, self.embedding_size * 2, sparse=True)\n",
        "        self.predicate_embeddings = nn.Embedding(nb_predicates, self.embedding_size * 2, sparse=True)\n",
        "\n",
        "        # Small trick from https://github.com/facebookresearch/kbc/\n",
        "        self.entity_embeddings.weight.data *= 1e-3\n",
        "        self.predicate_embeddings.weight.data *= 1e-3\n",
        "\n",
        "    def score(self, triple: Tensor) -> Tensor:\n",
        "        # triple is a batch_size x 3 tensor containing a batch of triples, where triple[0], triple[1], and triple[2]\n",
        "        # correspond to the indices of the subjects, predicates, and objects, respectively.\n",
        "\n",
        "        s_emb = self.entity_embeddings(triple[:, 0])\n",
        "        p_emb = self.predicate_embeddings(triple[:, 1])\n",
        "        o_emb = self.entity_embeddings(triple[:, 2])\n",
        "\n",
        "        # [B, E]\n",
        "        s_real, s_img = s_emb[:, :self.embedding_size], s_emb[:, self.embedding_size:]\n",
        "        p_real, p_img = p_emb[:, :self.embedding_size], p_emb[:, self.embedding_size:]\n",
        "        o_real, o_img = o_emb[:, :self.embedding_size], o_emb[:, self.embedding_size:]\n",
        "\n",
        "        # [B] Tensor\n",
        "        # This computes Re(<s, p, conj(o)>)\n",
        "        res = torch.sum((s_real * o_real + s_img * o_img) * p_real +\n",
        "                        (s_real * o_img - s_img * o_real) * p_img, 1)\n",
        "\n",
        "        # [B] Tensor\n",
        "        return res\n",
        "\n",
        "    def forward(self, s: Optional[Tensor], p: Optional[Tensor], o: Optional[Tensor]) -> Tensor:\n",
        "        # s, p, and o are the indices of subjects, predicates, and objects, respecitvely.\n",
        "        # This function is similar to the previous score() but it requires you not to specify one among the\n",
        "        # subject, predicate, and object of a batch of triples, and gives you a score for all possible candidates\n",
        "        assert [s, p, o].count(None) <= 1, \"s, p, or o should be None\"\n",
        "\n",
        "        s_emb = self.entity_embeddings(s) if s is not None else self.entity_embeddings.weight\n",
        "        p_emb = self.predicate_embeddings(p) if p is not None else self.predicate_embeddings.weight\n",
        "        o_emb = self.entity_embeddings(o) if o is not None else self.entity_embeddings.weight\n",
        "\n",
        "        # Let's extract the real and imaginary part from the subject, predicate, and object embeddings\n",
        "        s_real, s_img = s_emb[:, :self.embedding_size], s_emb[:, self.embedding_size:]\n",
        "        p_real, p_img = p_emb[:, :self.embedding_size], p_emb[:, self.embedding_size:]\n",
        "        o_real, o_img = o_emb[:, :self.embedding_size], o_emb[:, self.embedding_size:]\n",
        "\n",
        "        # [B] Tensor\n",
        "        scores = None\n",
        "\n",
        "        if p is None:\n",
        "          # If the predicate is not specified, we compute the scores of all the triples obtained by using the\n",
        "          # predicates in R as predicate values.\n",
        "          scores1_p = (s_real * o_real + s_img * o_img) @ p_real.t()\n",
        "          scores2_p = (s_real * o_img - s_img * o_real) @ p_img.t()\n",
        "          scores = scores1_p + scores2_p\n",
        "        elif s is None:\n",
        "          # If the subject is not specified, we compute the scores of all the triples obtained by using the\n",
        "          # entities in E as subject values.\n",
        "          scores1_s = (p_real * o_real + p_img * o_img) @ s_real.t()\n",
        "          scores2_s = (p_real * o_img - p_img * o_real) @ s_img.t()\n",
        "          scores = scores1_s + scores2_s\n",
        "        elif o is None:\n",
        "          # If the object is not specified, we compute the scores of all the triples obtained by using the\n",
        "          # entities in E as object values.\n",
        "          scores1_o = (p_real * s_real - p_img * s_img) @ o_real.t()\n",
        "          scores2_o = (p_real * s_img + p_img * s_real) @ o_img.t()\n",
        "          scores = scores1_o + scores2_o\n",
        "        else:\n",
        "          # Subject, predicare, and object values were specified -- we compute the score of the triple.\n",
        "          scores = self.score(torch.cat([s.view(-1, 1), p.view(-1, 1), o.view(-1, 1)], dim=1))\n",
        "\n",
        "        assert scores is not None\n",
        "        return scores\n",
        "\n",
        "    def factor(self, idx: Tensor, is_entity: bool = True) -> Tensor:\n",
        "      embedding_layer = self.entity_embeddings if is_entity is True else self.predicate_embeddings\n",
        "      emb = embedding_layer(idx)\n",
        "      emb_real, emb_img = emb[:, :self.embedding_size], emb[:, self.embedding_size:]\n",
        "      return torch.sqrt(emb_real ** 2 + emb_img ** 2)"
      ]
    },
    {
      "cell_type": "markdown",
      "metadata": {
        "id": "4F09Z4vxPvab"
      },
      "source": [
        "## Regularisers\n",
        "\n",
        "After creating the model, we know create the regularisers, implemented by the classes `F2` and `N3`. Here, `F2` implements the squared Frobenius norm $\\Omega(\\mathbf{e}) = \\lVert \\mathbf{e} \\rVert_{2}^{2}$, while `N3` implements the nuclear 3-norm proposed by [1].\n",
        "\n",
        "[1] Lacroix et al. Canonical Tensor Decomposition for Knowledge Base Completion, ICML 2018 https://arxiv.org/abs/1806.07297"
      ]
    },
    {
      "cell_type": "code",
      "execution_count": 8,
      "metadata": {
        "id": "ikh_cUOa2I82"
      },
      "outputs": [],
      "source": [
        "# @title\n",
        "# Let's create two regularisers\n",
        "\n",
        "class F2(nn.Module):\n",
        "    def __init__(self):\n",
        "        super().__init__()\n",
        "\n",
        "    def __call__(self, factors: List[Tensor]):\n",
        "        norm = sum(torch.sum(f ** 2) for f in factors)\n",
        "        return norm / factors[0].shape[0]\n",
        "\n",
        "\n",
        "class N3(nn.Module):\n",
        "    def __init__(self):\n",
        "        super().__init__()\n",
        "\n",
        "    def __call__(self, factors: List[Tensor]):\n",
        "        norm = sum(torch.sum(torch.abs(f) ** 3) for f in factors)\n",
        "        return norm / factors[0].shape[0]"
      ]
    },
    {
      "cell_type": "markdown",
      "metadata": {
        "id": "tG9kmG2PSNSs"
      },
      "source": [
        "We now instantiate the model -- we set the embedding size (`embedding_size` in the code, $d$ in the slides) to 100, and try to calculate the score of the first 100 triples in the training set (remember that the embeddings are initialised at random).\n",
        "\n",
        "The output cell shows the computation graph used by PyTorch to compute the scores of these triples."
      ]
    },
    {
      "cell_type": "code",
      "execution_count": 9,
      "metadata": {
        "colab": {
          "base_uri": "https://localhost:8080/",
          "height": 1000
        },
        "id": "N1cMXtIoLrJV",
        "outputId": "c548577b-94b3-4b77-b1b1-4fee01b01da9"
      },
      "outputs": [
        {
          "name": "stdout",
          "output_type": "stream",
          "text": [
            "ComplEx(\n",
            "  (entity_embeddings): Embedding(2034, 1000, sparse=True)\n",
            "  (predicate_embeddings): Embedding(42, 1000, sparse=True)\n",
            ")\n",
            "tensor([ 2.2792e-08, -2.5730e-08, -4.4926e-08,  1.1772e-08, -3.5977e-08,\n",
            "        -2.1518e-08,  3.2929e-08,  3.0954e-08, -4.1050e-08,  7.3762e-08],\n",
            "       grad_fn=<SumBackward1>)\n"
          ]
        }
      ],
      "source": [
        "# @title\n",
        "# Let's create the model (with random initial embeddings), move it on CPU/GPU, and see what scores the model gives us before training\n",
        "nb_entities = len(entity_set)\n",
        "nb_predicates = len(predicate_set)\n",
        "\n",
        "embedding_size = 500\n",
        "model = ComplEx(nb_entities=nb_entities, nb_predicates=nb_predicates, embedding_size=embedding_size).to(device)\n",
        "\n",
        "print(model)\n",
        "\n",
        "# Let's see what scores we get for the first 10 triples in the training set\n",
        "print(model.score(train_t[:10, :]))\n",
        "\n",
        "# import torchlens as tl\n",
        "# model_history = tl.log_forward_pass(model, (train_t[:10, 0], train_t[:10, 1], train_t[:10, 2]), layers_to_save='all', vis_opt='rolled')"
      ]
    },
    {
      "cell_type": "markdown",
      "metadata": {
        "id": "I4BflEljTfGz"
      },
      "source": [
        "## Evaluations - MRR and Hits@k\n",
        "\n",
        "We now implement the evaluation metric -- we implement both MRR and Hits@$k$.\n",
        "\n",
        "We are given a test set of triples $T = \\{ t_{1}, t_{2}, \\ldots, t_{|T|} \\}$. For each test triple $t_{i} = \\langle s, p, o \\rangle \\in E \\times R \\times E$, we check how accurately we can predict $o$ from $\\langle s, p, \\cdot \\rangle$ and $s$ from $\\langle \\cdot, p, o \\rangle$.\n",
        "\n",
        "More formally, given a triple $t_{i} = \\langle s, p, o \\rangle$, we calculate a score for all entities $e \\in E$ based on the score associated by the model to $\\langle s, p, e \\rangle$, and sort them in descending order: the position of the true object $o$ in this ranking will be the *object rank* of $t_{i}$. We then repeat the same operation for the subject $s$.\n",
        "\n",
        "Note that, when sorting the entities by their scores in descending order, we may rank the correct object $o$ or subject $s$ below some other triple that also appears in the training, validation, or test set -- this is not strictly an error, so we do not consider these cases when computing the subject and object ranks of a test triple. In the literature, this is referred to as the *filtered setting* -- see [1] for more information about this.\n",
        "\n",
        "Then, based on the (subject and object) ranks of all of the test triples in $T$, we compute the following metrics:\n",
        "\n",
        "$\\text{MRR} = \\frac{1}{2|T|} \\sum_{i} \\frac{1}{\\text{Rank}^{s}_{t} + \\text{Rank}^{o}_{t}} \\qquad \\text{and} \\qquad \\text{Hits@}k = \\frac{|\\{ t \\in T : \\text{Rank}^{s}_{t} \\leq k \\}| + |\\{ t \\in T : \\text{Rank}^{o}_{t} \\leq k \\}|}{2|T|}$\n",
        "\n",
        "[1] Bordes et al. Translating Embeddings for Modeling\n",
        "Multi-relational Data. NIPS 2013 https://papers.nips.cc/paper_files/paper/2013/hash/1cecc7a77928ca8133fa24680a88d2f9-Abstract.html"
      ]
    },
    {
      "cell_type": "code",
      "execution_count": 10,
      "metadata": {
        "id": "4y9RsJ9E_ErF"
      },
      "outputs": [],
      "source": [
        "# Evaluation function!\n",
        "def evaluate(test_triples: Tensor, all_triples: Tensor, model: nn.Module, batch_size: int = 8192):\n",
        "    sp_to_o, po_to_s = {}, {}\n",
        "\n",
        "    # We need these to compute the filtered ranks\n",
        "    for s, p, o in all_triples:\n",
        "        s_idx, p_idx, o_idx = s.item(), p.item(), o.item()\n",
        "\n",
        "        sp_key = (s_idx, p_idx)\n",
        "        po_key = (p_idx, o_idx)\n",
        "\n",
        "        if sp_key not in sp_to_o:\n",
        "            sp_to_o[sp_key] = []\n",
        "\n",
        "        if po_key not in po_to_s:\n",
        "            po_to_s[po_key] = []\n",
        "\n",
        "        sp_to_o[sp_key] += [o_idx]\n",
        "        po_to_s[po_key] += [s_idx]\n",
        "\n",
        "    hits = dict()\n",
        "    hits_l = dict()\n",
        "    hits_r = dict()\n",
        "\n",
        "    hits_at = [1, 3, 5, 10, 20, 50, 100]\n",
        "\n",
        "    for hits_at_value in hits_at:\n",
        "        hits[hits_at_value] = 0.0\n",
        "        hits_l[hits_at_value] = 0.0\n",
        "        hits_r[hits_at_value] = 0.0\n",
        "\n",
        "    def hits_at_n(n_, rank, is_left=True):\n",
        "        if rank <= n_:\n",
        "            hits[n_] = hits.get(n_, 0) + 1\n",
        "\n",
        "            hits_x = hits_l if is_left else hits_r\n",
        "            hits_x[n_] = hits_x.get(n_, 0) + 1\n",
        "\n",
        "    counter = 0\n",
        "    mrr = 0.0\n",
        "\n",
        "    dataset = TensorDataset(test_triples)\n",
        "    data_loader = DataLoader(dataset, batch_size=batch_size, shuffle=True)\n",
        "\n",
        "    ranks_l, ranks_r = [], []\n",
        "\n",
        "    for batch_ in data_loader:\n",
        "        batch_triples = batch_[0]\n",
        "        batch_size = batch_triples.shape[0]\n",
        "        counter += batch_size * 2\n",
        "\n",
        "        with torch.inference_mode():\n",
        "            scores_o = model.forward(s=batch_triples[:, 0], p=batch_triples[:, 1], o=None).cpu().numpy()\n",
        "            scores_s = model.forward(s=None, p=batch_triples[:, 1], o=batch_triples[:, 2]).cpu().numpy()\n",
        "\n",
        "        for elem_idx in range(batch_size):\n",
        "            s_idx, p_idx, o_idx = batch_triples[elem_idx, 0], batch_triples[elem_idx, 1], batch_triples[elem_idx, 2]\n",
        "\n",
        "            # Code for the filtered setting\n",
        "            sp_key = (s_idx.item(), p_idx.item())\n",
        "            po_key = (p_idx.item(), o_idx.item())\n",
        "\n",
        "            o_to_remove = sp_to_o[sp_key]\n",
        "            s_to_remove = po_to_s[po_key]\n",
        "\n",
        "            for tmp_o_idx in o_to_remove:\n",
        "                if tmp_o_idx != o_idx:\n",
        "                    scores_o[elem_idx, tmp_o_idx] = - np.infty\n",
        "\n",
        "            for tmp_s_idx in s_to_remove:\n",
        "                if tmp_s_idx != s_idx:\n",
        "                    scores_s[elem_idx, tmp_s_idx] = - np.infty\n",
        "            # End of code for the filtered setting\n",
        "\n",
        "            rank_l = 1 + np.argsort(np.argsort(- scores_s[elem_idx, :]))[s_idx]\n",
        "            rank_r = 1 + np.argsort(np.argsort(- scores_o[elem_idx, :]))[o_idx]\n",
        "\n",
        "            ranks_l += [rank_l]\n",
        "            ranks_r += [rank_r]\n",
        "\n",
        "            mrr += 1.0 / rank_l\n",
        "            mrr += 1.0 / rank_r\n",
        "\n",
        "            for n in hits_at:\n",
        "                hits_at_n(n, rank_l, is_left=True)\n",
        "\n",
        "            for n in hits_at:\n",
        "                hits_at_n(n, rank_r, is_left=False)\n",
        "\n",
        "    counter = float(counter)\n",
        "\n",
        "    mrr /= counter\n",
        "\n",
        "    for n in hits_at:\n",
        "        hits[n] /= counter\n",
        "        hits_l[n] /= (counter // 2)\n",
        "        hits_r[n] /= (counter // 2)\n",
        "\n",
        "    metrics = dict()\n",
        "    metrics['mrr'] = mrr\n",
        "    for n in hits_at:\n",
        "        metrics['hits@{}'.format(n)] = hits[n]\n",
        "\n",
        "        metrics['hits_l@{}'.format(n)] = hits_l[n]\n",
        "        metrics['hits_r@{}'.format(n)] = hits_r[n]\n",
        "\n",
        "    metrics['ranks_l'] = ranks_l\n",
        "    metrics['ranks_r'] = ranks_r\n",
        "\n",
        "    return metrics"
      ]
    },
    {
      "cell_type": "code",
      "execution_count": 11,
      "metadata": {
        "colab": {
          "base_uri": "https://localhost:8080/",
          "height": 472
        },
        "id": "4hs_rfzJ0u24",
        "outputId": "e96552dc-79e6-40bc-c1df-caa46cfb8f17"
      },
      "outputs": [
        {
          "name": "stderr",
          "output_type": "stream",
          "text": [
            "/Users/arthakhouri/miniforge3/lib/python3.10/site-packages/seaborn/_oldcore.py:1119: FutureWarning: use_inf_as_na option is deprecated and will be removed in a future version. Convert inf values to NaN before operating instead.\n",
            "  with pd.option_context('mode.use_inf_as_na', True):\n"
          ]
        },
        {
          "data": {
            "image/png": "[encoded data removed]",
            "text/plain": [
              "<Figure size 640x480 with 1 Axes>"
            ]
          },
          "metadata": {},
          "output_type": "display_data"
        }
      ],
      "source": [
        "train_metrics = evaluate(test_triples=train_t, all_triples=all_t, model=model)\n",
        "\n",
        "# Plotting the histogram using seaborn\n",
        "sns.histplot(train_metrics['ranks_l'] + train_metrics['ranks_r'], bins='auto', kde=False)\n",
        "\n",
        "plt.xlabel('Rank Value')\n",
        "plt.ylabel('Frequency')\n",
        "plt.title('Rank Frequency Histogram')\n",
        "\n",
        "# Display the plot\n",
        "plt.show()"
      ]
    },
    {
      "cell_type": "code",
      "execution_count": 12,
      "metadata": {
        "colab": {
          "base_uri": "https://localhost:8080/",
          "height": 946
        },
        "id": "0lHkKr7pNKyw",
        "outputId": "64401030-c3fb-473c-a8c3-7e3d2091c1fa"
      },
      "outputs": [
        {
          "data": {
            "image/png": "[encoded data removed]",
            "text/plain": [
              "<Figure size 1200x800 with 2 Axes>"
            ]
          },
          "metadata": {},
          "output_type": "display_data"
        },
        {
          "name": "stdout",
          "output_type": "stream",
          "text": [
            "MRR\n",
            "\ttraining         \t (min:    0.526, max:    0.999, cur:    0.999)\n",
            "\tvalidation       \t (min:    0.328, max:    0.467, cur:    0.467)\n",
            "\ttest             \t (min:    0.324, max:    0.448, cur:    0.448)\n",
            "Loss\n",
            "\tsubject          \t (min:    4.835, max:    6.217, cur:    4.835)\n",
            "\tobject           \t (min:    2.059, max:    3.340, cur:    2.128)\n",
            "\taggregate        \t (min:    7.129, max:    9.685, cur:    7.129)\n",
            "Unexpected exception formatting exception. Falling back to standard exception\n"
          ]
        },
        {
          "name": "stderr",
          "output_type": "stream",
          "text": [
            "Traceback (most recent call last):\n",
            "  File \"/Users/arthakhouri/miniforge3/lib/python3.10/site-packages/IPython/core/interactiveshell.py\", line 3526, in run_code\n",
            "    exec(code_obj, self.user_global_ns, self.user_ns)\n",
            "  File \"/var/folders/y2/qksbvc0d6130j45j5xww0pcc0000gn/T/ipykernel_23204/715540600.py\", line 55, in <module>\n",
            "    train_metrics = evaluate(test_triples=train_t, all_triples=all_t, model=model)\n",
            "  File \"/var/folders/y2/qksbvc0d6130j45j5xww0pcc0000gn/T/ipykernel_23204/2040222604.py\", line -1, in evaluate\n",
            "KeyboardInterrupt\n",
            "\n",
            "During handling of the above exception, another exception occurred:\n",
            "\n",
            "Traceback (most recent call last):\n",
            "  File \"/Users/arthakhouri/miniforge3/lib/python3.10/site-packages/IPython/core/interactiveshell.py\", line 2120, in showtraceback\n",
            "    stb = self.InteractiveTB.structured_traceback(\n",
            "  File \"/Users/arthakhouri/miniforge3/lib/python3.10/site-packages/IPython/core/ultratb.py\", line 1435, in structured_traceback\n",
            "    return FormattedTB.structured_traceback(\n",
            "  File \"/Users/arthakhouri/miniforge3/lib/python3.10/site-packages/IPython/core/ultratb.py\", line 1326, in structured_traceback\n",
            "    return VerboseTB.structured_traceback(\n",
            "  File \"/Users/arthakhouri/miniforge3/lib/python3.10/site-packages/IPython/core/ultratb.py\", line 1173, in structured_traceback\n",
            "    formatted_exception = self.format_exception_as_a_whole(etype, evalue, etb, number_of_lines_of_context,\n",
            "  File \"/Users/arthakhouri/miniforge3/lib/python3.10/site-packages/IPython/core/ultratb.py\", line 1088, in format_exception_as_a_whole\n",
            "    frames.append(self.format_record(record))\n",
            "  File \"/Users/arthakhouri/miniforge3/lib/python3.10/site-packages/IPython/core/ultratb.py\", line 970, in format_record\n",
            "    frame_info.lines, Colors, self.has_colors, lvals\n",
            "  File \"/Users/arthakhouri/miniforge3/lib/python3.10/site-packages/IPython/core/ultratb.py\", line 792, in lines\n",
            "    return self._sd.lines\n",
            "  File \"/Users/arthakhouri/miniforge3/lib/python3.10/site-packages/stack_data/utils.py\", line 144, in cached_property_wrapper\n",
            "    value = obj.__dict__[self.func.__name__] = self.func(obj)\n",
            "  File \"/Users/arthakhouri/miniforge3/lib/python3.10/site-packages/stack_data/core.py\", line 734, in lines\n",
            "    pieces = self.included_pieces\n",
            "  File \"/Users/arthakhouri/miniforge3/lib/python3.10/site-packages/stack_data/utils.py\", line 144, in cached_property_wrapper\n",
            "    value = obj.__dict__[self.func.__name__] = self.func(obj)\n",
            "  File \"/Users/arthakhouri/miniforge3/lib/python3.10/site-packages/stack_data/core.py\", line 681, in included_pieces\n",
            "    pos = scope_pieces.index(self.executing_piece)\n",
            "  File \"/Users/arthakhouri/miniforge3/lib/python3.10/site-packages/stack_data/utils.py\", line 144, in cached_property_wrapper\n",
            "    value = obj.__dict__[self.func.__name__] = self.func(obj)\n",
            "  File \"/Users/arthakhouri/miniforge3/lib/python3.10/site-packages/stack_data/core.py\", line 660, in executing_piece\n",
            "    return only(\n",
            "  File \"/Users/arthakhouri/miniforge3/lib/python3.10/site-packages/executing/executing.py\", line 190, in only\n",
            "    raise NotOneValueFound('Expected one value, found 0')\n",
            "executing.executing.NotOneValueFound: Expected one value, found 0\n"
          ]
        }
      ],
      "source": [
        "# Let's train this model! First, let's implement a training loop\n",
        "optimiser = optim.Adagrad(model.parameters(), lr=0.1)\n",
        "regulariser = F2()\n",
        "\n",
        "nb_epochs = 50\n",
        "batch_size = 128\n",
        "regulariser_weight = 0.001\n",
        "\n",
        "dataset = TensorDataset(train_t)\n",
        "data_loader = DataLoader(dataset, batch_size=batch_size, shuffle=True)\n",
        "\n",
        "model.train()\n",
        "\n",
        "group_patterns: Iterable[Tuple[Pattern, str]] = (\n",
        "    (r'^(subject(_|-))(.*)', 'subject'),\n",
        "    (r'^(object(_|-))(.*)', 'object'),\n",
        "    (r'^(aggregate(_|-))(.*)', 'aggregate'),\n",
        "    (r'^(train(_|-))(.*)', 'training'),\n",
        "    (r'^(val(_|-))(.*)', 'validation'),\n",
        "    (r'^(test(_|-))(.*)', 'test'),\n",
        ")\n",
        "\n",
        "liveloss = PlotLosses(group_patterns=group_patterns)\n",
        "\n",
        "loss_function = nn.CrossEntropyLoss(reduction='mean')\n",
        "\n",
        "for epoch_no in range(1, nb_epochs + 1):\n",
        "  for batch_no, batch in enumerate(data_loader):\n",
        "    triple_batch = batch[0]\n",
        "    # Given the predicate and the object of the triple, compute a score for all possible subjects\n",
        "    s_scores = model.forward(s=None, p=triple_batch[:, 1], o=triple_batch[:, 2])\n",
        "\n",
        "    # Given the subject and the predicate of the triple, compute a scofe for all possible objects\n",
        "    o_scores = model.forward(s=triple_batch[:, 0], p=triple_batch[:, 1], o=None)\n",
        "\n",
        "    # Calculate the mismatch between the predicted scores and the gold truth -- the true subjects and objects of the triples\n",
        "    s_loss = loss_function(s_scores, triple_batch[:, 0])\n",
        "    o_loss = loss_function(o_scores, triple_batch[:, 2])\n",
        "\n",
        "    factors = [model.factor(triple_batch[:, 0], is_entity=True),\n",
        "               model.factor(triple_batch[:, 1], is_entity=False),\n",
        "               model.factor(triple_batch[:, 2], is_entity=True)]\n",
        "\n",
        "    # The loss is given by the \"mismatch (loss) value\" mentioned earlier, and a regularisation term\n",
        "    loss = s_loss + o_loss + regulariser_weight * regulariser(factors)\n",
        "\n",
        "    optimiser.zero_grad()\n",
        "\n",
        "    # Compute the gradient of the training objective (L(θ) + λΩ(θ)) with respect to θ (entity and predicate embeddings)\n",
        "    loss.backward()\n",
        "\n",
        "    # Perform one stochastic gradient descent step\n",
        "    optimiser.step()\n",
        "\n",
        "  train_metrics = evaluate(test_triples=train_t, all_triples=all_t, model=model)\n",
        "  valid_metrics = evaluate(test_triples=valid_t, all_triples=all_t, model=model)\n",
        "  test_metrics = evaluate(test_triples=test_t, all_triples=all_t, model=model)\n",
        "\n",
        "  logs = {'subject_loss': s_loss.item(), 'object_loss': o_loss.item(), 'aggregate_loss': loss.item(),\n",
        "          'train_MRR': train_metrics['mrr'], 'val_MRR': valid_metrics['mrr'], 'test_MRR': test_metrics['mrr']}\n",
        "\n",
        "  liveloss.update(logs)\n",
        "  liveloss.send()\n"
      ]
    },
    {
      "cell_type": "code",
      "execution_count": null,
      "metadata": {
        "colab": {
          "base_uri": "https://localhost:8080/",
          "height": 472
        },
        "id": "tpJgztOgxXK3",
        "outputId": "fc683950-6ead-4f37-b8ce-abc18fe53a54"
      },
      "outputs": [
        {
          "name": "stderr",
          "output_type": "stream",
          "text": [
            "/Users/arthakhouri/miniforge3/lib/python3.10/site-packages/seaborn/_oldcore.py:1119: FutureWarning: use_inf_as_na option is deprecated and will be removed in a future version. Convert inf values to NaN before operating instead.\n",
            "  with pd.option_context('mode.use_inf_as_na', True):\n"
          ]
        },
        {
          "data": {
            "image/png": "[encoded data removed]",
            "text/plain": [
              "<Figure size 640x480 with 1 Axes>"
            ]
          },
          "metadata": {},
          "output_type": "display_data"
        }
      ],
      "source": [
        "train_metrics = evaluate(test_triples=train_t, all_triples=all_t, model=model)\n",
        "valid_metrics = evaluate(test_triples=valid_t, all_triples=all_t, model=model)\n",
        "# test_metrics = evaluate(test_triples=test_t, all_triples=all_t, model=model)\n",
        "\n",
        "sns.histplot(train_metrics['ranks_l'] + train_metrics['ranks_r'], bins='auto', kde=False)\n",
        "\n",
        "plt.xlabel('Rank Value')\n",
        "plt.ylabel('Frequency')\n",
        "plt.title('Rank Frequency Histogram')\n",
        "\n",
        "plt.show()"
      ]
    },
    {
      "cell_type": "code",
      "execution_count": null,
      "metadata": {
        "colab": {
          "base_uri": "https://localhost:8080/",
          "height": 472
        },
        "id": "asJUUMFj0fNN",
        "outputId": "b0f326c1-5e28-4c53-eb0b-90997acb67cb"
      },
      "outputs": [
        {
          "name": "stderr",
          "output_type": "stream",
          "text": [
            "/Users/arthakhouri/miniforge3/lib/python3.10/site-packages/seaborn/_oldcore.py:1119: FutureWarning: use_inf_as_na option is deprecated and will be removed in a future version. Convert inf values to NaN before operating instead.\n",
            "  with pd.option_context('mode.use_inf_as_na', True):\n"
          ]
        },
        {
          "data": {
            "image/png": "[encoded data removed]",
            "text/plain": [
              "<Figure size 640x480 with 1 Axes>"
            ]
          },
          "metadata": {},
          "output_type": "display_data"
        }
      ],
      "source": [
        "sns.histplot(valid_metrics['ranks_l'] + valid_metrics['ranks_r'], bins='auto', kde=False)\n",
        "\n",
        "plt.xlabel('Rank Value')\n",
        "plt.ylabel('Frequency')\n",
        "plt.title('Rank Frequency Histogram')\n",
        "\n",
        "plt.show()"
      ]
    },
    {
      "cell_type": "code",
      "execution_count": null,
      "metadata": {},
      "outputs": [],
      "source": []
    }
  ],
  "metadata": {
    "accelerator": "GPU",
    "colab": {
      "gpuType": "V100",
      "machine_shape": "hm",
      "provenance": []
    },
    "kernelspec": {
      "display_name": "Python 3",
      "name": "python3"
    },
    "language_info": {
      "codemirror_mode": {
        "name": "ipython",
        "version": 3
      },
      "file_extension": ".py",
      "mimetype": "text/x-python",
      "name": "python",
      "nbconvert_exporter": "python",
      "pygments_lexer": "ipython3",
      "version": "3.10.10"
    }
  },
  "nbformat": 4,
  "nbformat_minor": 0
}

{
 "cells": [
  {
   "cell_type": "code",
   "execution_count": 4,
   "metadata": {},
   "outputs": [],
   "source": [
    "import pandas as pd\n",
    "\n",
    "# Load the data\n",
    "data = pd.read_csv('metrics/fb15k.csv')\n",
    "\n",
    "# Round all numeric columns to 4 decimal places\n",
    "data.iloc[:, :-1] = data.iloc[:, :-1].round(4)\n",
    "\n",
    "# Separate the data into two different DataFrames\n",
    "gemma_data = data[data['Triples'].str.contains('gemma')]\n",
    "gpt_data = data[data['Triples'].str.contains('gpt')]\n",
    "\n",
    "# Save the separated data into two different CSV files\n",
    "gemma_data.to_csv('gemma_data.csv', index=False)\n",
    "gpt_data.to_csv('gpt_data.csv', index=False)"
   ]
  },
  {
   "cell_type": "code",
   "execution_count": null,
   "metadata": {},
   "outputs": [],
   "source": []
  }
 ],
 "metadata": {
  "kernelspec": {
   "display_name": "base",
   "language": "python",
   "name": "python3"
  },
  "language_info": {
   "codemirror_mode": {
    "name": "ipython",
    "version": 3
   },
   "file_extension": ".py",
   "mimetype": "text/x-python",
   "name": "python",
   "nbconvert_exporter": "python",
   "pygments_lexer": "ipython3",
   "version": "3.10.10"
  }
 },
 "nbformat": 4,
 "nbformat_minor": 2
}
